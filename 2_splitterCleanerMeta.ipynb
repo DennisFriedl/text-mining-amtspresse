{
 "cells": [
  {
   "cell_type": "markdown",
   "metadata": {},
   "source": [
    "# 2 Aufteilen und Säubern der Daten und Erfassen von Metadaten\n",
    "## Der Code für Kapitel 3, 4 und 5 in https://dennisfriedl.de/blog/text_mining_amtspresse\n",
    "### Die Pfade müssen angepasst werden!"
   ]
  },
  {
   "cell_type": "code",
   "execution_count": 10,
   "metadata": {},
   "outputs": [],
   "source": [
    "# Imports von Modulen\n",
    "import os # Für Dateien\n",
    "import re # Regex\n",
    "import csv # CSV"
   ]
  },
  {
   "cell_type": "code",
   "execution_count": 11,
   "metadata": {},
   "outputs": [],
   "source": [
    "# Umzustellendene Variablen\n",
    "paper = \"ProvinzialCorrespondenz\" # umstellen auf NeuesteMittheilungen oder ProvinzialCorrespondenz"
   ]
  },
  {
   "cell_type": "code",
   "execution_count": 12,
   "metadata": {},
   "outputs": [],
   "source": [
    "#### FUNCTIONS ####\n",
    "def xmlDeleter(l): # Löschung der XML-Tags\n",
    "    for i in range(len(l)): \n",
    "        l[i] = re.sub(\"<br/>\", \" \", l[i]) # Statt <br/> ein Leerzeichen, da sonst Wörter zusammenrücken würden\n",
    "        l[i] = re.sub(\"<\\/?[a-z]*\\/?>\", \"\", l[i]) # Regex für XML-Tags. Wird durch nichts ersetzt.\n",
    "\n",
    "def stripper(l): # Befreit die Artikel von Leerzeichen und Umbrüchen am Angang und am Ende\n",
    "    for i in range(len(l)):\n",
    "        l[i] = l[i].replace(\"\\n\", \" \")\n",
    "        l[i] = l[i].strip()"
   ]
  },
  {
   "cell_type": "code",
   "execution_count": 13,
   "metadata": {},
   "outputs": [],
   "source": [
    "for file in os.listdir(\"../Data/TXT/{}\".format(paper)): # Löscht am Anfang alle alten Daten\n",
    "    os.remove(\"../Data/TXT/{}/{}\".format(paper, file))"
   ]
  },
  {
   "cell_type": "code",
   "execution_count": 14,
   "metadata": {},
   "outputs": [],
   "source": [
    "# Definition der gewünschten Metadaten:\n",
    "csvRow = {\"Dateiname\": None, \"Zeitungsname\": None, \"Tag\": None, \"Monat\": None, \"Jahr\": None, \"Jahr_Monat\": None ,\"Jahr_Monat_Tag\": None, \"Artikelanzahl_in_der_Ausgabe\": None, \"Stelle_in_der_Artikelanzahl\": None, \"Ueberschrift\": None, \"Woerteranzahl_Artikel\": None, \"Woerteranzahl_Ausgabe\": None}\n",
    "csvRow[\"Zeitungsname\"] = paper;"
   ]
  },
  {
   "cell_type": "code",
   "execution_count": 15,
   "metadata": {},
   "outputs": [],
   "source": [
    "# Ertsellen der CSV-Datei und schreiben des Headers\n",
    "with open(\"../Data/CSV/{}/metadata.csv\".format(paper), mode='w', newline='', encoding=\"utf-8\") as csvFile:\n",
    "    fieldnames = list(csvRow.keys())\n",
    "    writer = csv.DictWriter(csvFile, fieldnames=fieldnames)\n",
    "    writer.writeheader()"
   ]
  },
  {
   "cell_type": "code",
   "execution_count": 16,
   "metadata": {},
   "outputs": [],
   "source": [
    "for file in os.listdir(\"../Data/XML/{}\".format(paper)): # Geht jede Datei im Ordner durch\n",
    "    \n",
    "    csvContent = list() # wird jede Ausgabe zurückgesetzt\n",
    "    # die gesamte Ausgabe gleich:\n",
    "    csvRow[\"Jahr\"] = file[:4]\n",
    "    csvRow[\"Monat\"] = file[4:6]\n",
    "    csvRow[\"Tag\"] = file[6:8]\n",
    "    csvRow[\"Jahr_Monat\"] = csvRow[\"Jahr\"] + \"-\" + csvRow[\"Monat\"]\n",
    "    csvRow[\"Jahr_Monat_Tag\"] = csvRow[\"Jahr\"] + \"-\" + csvRow[\"Monat\"] + \"-\" + csvRow[\"Tag\"]\n",
    "    \n",
    "    with open(\"../Data/XML/{}/{}\".format(paper, file),\"r\", encoding=\"utf-8\") as xmlFile: # Öffnet die Datei\n",
    "        data = xmlFile.read()\n",
    "\n",
    "    data = data.split(\"<fusszeile>\")[0] # Trennt die Fußzeile ab\n",
    "    data = data.split(\"<untertitel>\")[1:] # Teilt nach Untertiteln und trennt die Kopfzeile ab\n",
    "    \n",
    "    for i in range(len(data)): # Trennt bei mehrmaligem Auftreten von \"<hr/>\" die Artikelsammlung nochmal in Artikel anhand von \"<hr/>\"\n",
    "        if data[i].count(\"<hr/>\") > 1:\n",
    "            data[i] = data[i].split(\"<hr/>\")\n",
    "    \n",
    "    #hängt die durch die <hr/>-Trennung entstandenen Artikel an die Liste an\n",
    "    oldData = data\n",
    "    data = list()\n",
    "    for i in oldData:\n",
    "        if type(i) is str:\n",
    "            data.append(i)\n",
    "        elif type(i) is list:\n",
    "            for j in i:\n",
    "                if len(j) > 1:\n",
    "                    data.append(j)\n",
    "                    \n",
    "    stripper(data)\n",
    "\n",
    "    ueberueberschriften = [x for x in data if x.endswith(\"</untertitel>\")] # extrahiert Überüberschriften\n",
    "    \n",
    "    data = [x for x in data if not x.endswith(\"</untertitel>\")] # Löscht die Überüberschriften aus der Artikelliste\n",
    "    \n",
    "    # Überschriften speichern für die Metadaten\n",
    "    ueberschriften = list(range(len(data)))\n",
    "    for i in range(len(data)):\n",
    "        if \"</untertitel>\" in data[i]:\n",
    "            ueberschriften[i], data[i] = data[i].split(\"</untertitel>\")\n",
    "    for i in range(len(ueberschriften)):\n",
    "        if type(ueberschriften[i]) == int:\n",
    "            ueberschriften[i] = ueberschriften[i-1]\n",
    "    \n",
    "    xmlDeleter(data)\n",
    "    xmlDeleter(ueberschriften)\n",
    "    xmlDeleter(ueberueberschriften)\n",
    "    stripper(data)\n",
    "    stripper(ueberschriften)\n",
    "    stripper(ueberueberschriften)\n",
    "    \n",
    "    # Die Artikel in Überüberschriften werden oft einfach römisch durchnummeriert\n",
    "    # Hier soll verhindert werden, dass diese römischen Zahlen Teil der Überschriften in den Metadaten werden\n",
    "    deleteReady = False\n",
    "    for i in range(len(ueberschriften)):\n",
    "        if ueberueberschriften and ueberschriften[i] in [\"I.\", \"II.\", \"III.\",\"IV.\",\"V.\", \"VI.\", \"VII.\",\"VIII.\"\"VIII.\",\"IX.\",\"X.\",\"XI.\",\"XII.\",\"XIII.\",\"XIV.\",\"XV.\",]:\n",
    "            ueberschriften[i] = ueberueberschriften[0]\n",
    "            deleteReady = True\n",
    "        elif deleteReady:\n",
    "            ueberueberschriften.pop(0)\n",
    "            deleteReady = False\n",
    "    \n",
    "    data = [x for x in data if len(x.split(\" \")) > 3] # Behält nur Artikel mit mehr als drei Wörtern\n",
    "    \n",
    "    # Speichern weiterer Metadaten\n",
    "    csvRow[\"Artikelanzahl_in_der_Ausgabe\"] = len(data)\n",
    "    woerterAusgabe = 0\n",
    "    for i in range(len(data)):\n",
    "        woerterAusgabe += len(data[i].split(\" \"))\n",
    "    csvRow[\"Woerteranzahl_Ausgabe\"] = woerterAusgabe\n",
    "    \n",
    "    for i in range(len(data)): \n",
    "        csvRow[\"Dateiname\"] = str(file[:-4]) + \"-\" + str(i+1) + \".txt\"\n",
    "        csvRow[\"Stelle_in_der_Artikelanzahl\"] = i+1\n",
    "        csvRow[\"Ueberschrift\"] = ueberschriften[i]\n",
    "        csvRow[\"Woerteranzahl_Artikel\"] = len(data[i].split(\" \"))\n",
    "        woerterAusgabe += len(data[i].split(\" \"))\n",
    "        csvContent.append(csvRow.copy())\n",
    "    \n",
    "    for i in range(len(data)): # Speichert die Artikel als einzelne Txt-Dateien\n",
    "        with open(\"../Data/TXT/{}/{}-\".format(paper, file[:-4]) + str(i+1) + \".txt\",\"w+\", encoding=\"utf-8\") as txtFile:\n",
    "            txtFile.write(data[i])\n",
    "   \n",
    "    # Anhängen der Metadaten an die CSV-Datei\n",
    "    with open(\"../Data/CSV/{}/metadata.csv\".format(paper), mode='a', newline='', encoding=\"utf-8\") as csvFile: \n",
    "        fieldnames = list(csvRow.keys())\n",
    "        writer = csv.DictWriter(csvFile, fieldnames=fieldnames)\n",
    "        for row in csvContent:\n",
    "            writer.writerow(row)\n",
    "            \n",
    "    "
   ]
  }
 ],
 "metadata": {
  "kernelspec": {
   "display_name": "Python 3",
   "language": "python",
   "name": "python3"
  },
  "language_info": {
   "codemirror_mode": {
    "name": "ipython",
    "version": 3
   },
   "file_extension": ".py",
   "mimetype": "text/x-python",
   "name": "python",
   "nbconvert_exporter": "python",
   "pygments_lexer": "ipython3",
   "version": "3.7.6"
  }
 },
 "nbformat": 4,
 "nbformat_minor": 4
}
