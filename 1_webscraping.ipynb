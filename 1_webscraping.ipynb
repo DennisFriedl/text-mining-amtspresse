{
 "cells": [
  {
   "cell_type": "markdown",
   "metadata": {},
   "source": [
    "# 1 Webscraping\n",
    "## Der Code für Kapitel 2 in https://dennisfriedl.de/blog/text_mining_amtspresse\n",
    "### Die Pfade müssen angepasst werden!\n"
   ]
  },
  {
   "cell_type": "code",
   "execution_count": 13,
   "metadata": {},
   "outputs": [],
   "source": [
    "# Imports von Modulen\n",
    "import requests # Für HTTP-Requests\n",
    "import datetime # Für's Datum\n",
    "import time # Für's sleep"
   ]
  },
  {
   "cell_type": "code",
   "execution_count": 14,
   "metadata": {},
   "outputs": [],
   "source": [
    "# Umzustellendene Variable\n",
    "paper = \"ProvinzialCorrespondenz\" # umstellen auf NeuesteMittheilungen oder ProvinzialCorrespondenz\n",
    "\n",
    "# Feste Variable\n",
    "root_url = \"https://content.staatsbibliothek-berlin.de/zefys/{}-{}-F-0-0-0.xml\" # für beide Zeitungen gleich\n",
    "\n",
    "# Provinzial-Correspondenz\n",
    "id_pc = \"SNP9838247\" # ID-Nummer\n",
    "start_date_pc = datetime.date(1863, 7, 1) # Erste Ausgabe\n",
    "end_date_pc = datetime.date(1884, 6, 25) # Letzte Ausgabe\n",
    "\n",
    "# Neueste Mittheilungen\n",
    "id_nm = \"SNP11614109\" # ID-Nummer\n",
    "start_date_nm = datetime.date(1882, 5, 1) # Erste Ausgabe\n",
    "end_date_nm = datetime.date(1894, 12, 7) # Letzte Ausgabe\n",
    "\n",
    "# Verallgemeinerung\n",
    "if (paper == \"ProvinzialCorrespondenz\"):\n",
    "    id_nummer = id_pc\n",
    "    start_date = start_date_pc\n",
    "    end_date = end_date_pc\n",
    "elif (paper == \"NeuesteMittheilungen\"):\n",
    "    id_nummer = id_nm\n",
    "    start_date = start_date_nm\n",
    "    end_date = end_date_nm\n",
    "else:\n",
    "    print(\"Please use ProvinzialCorrespondenz or NeuesteMittheilungen\")\n",
    "    exit()\n",
    "    \n",
    "timespan = (end_date - start_date).days # Zeitspanne in Tagen"
   ]
  },
  {
   "cell_type": "code",
   "execution_count": 15,
   "metadata": {},
   "outputs": [],
   "source": [
    "for i in range(timespan + 1): # Geht die Zeitspanne durch\n",
    "    date_format = (start_date + datetime.timedelta(days=i)).strftime('%Y%m%d') # Definiert den Tag in der Zeitspanne und bringt ihn in ein YYYYMMDD-Format\n",
    "    url = root_url.format(id_nummer, date_format) # Packt die Zeitungs-ID und das Datum in die URL \n",
    "    website_data = requests.get(url) # Schickt Anfrage\n",
    "    try:\n",
    "        website_data.raise_for_status() # Ist an diesem Tag eine Ausgabe erschienen?\n",
    "    except:\n",
    "        continue\n",
    "    else:\n",
    "        with open(\"../Data/XML/{}/{}.xml\".format(paper, date_format),\"w+\", encoding=\"utf-8\") as xml_file: # speichert die XML-Datei\n",
    "            xml_file.write(website_data.text)\n",
    "    time.sleep(2) # 2 Sekunden warten"
   ]
  }
 ],
 "metadata": {
  "kernelspec": {
   "display_name": "Python 3",
   "language": "python",
   "name": "python3"
  },
  "language_info": {
   "codemirror_mode": {
    "name": "ipython",
    "version": 3
   },
   "file_extension": ".py",
   "mimetype": "text/x-python",
   "name": "python",
   "nbconvert_exporter": "python",
   "pygments_lexer": "ipython3",
   "version": "3.7.6"
  }
 },
 "nbformat": 4,
 "nbformat_minor": 4
}
